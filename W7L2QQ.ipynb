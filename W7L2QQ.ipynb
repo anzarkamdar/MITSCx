{
 "cells": [
  {
   "cell_type": "code",
   "execution_count": 2,
   "metadata": {},
   "outputs": [],
   "source": [
    "import numpy as np\n",
    "import pandas as pd\n",
    "import scipy.stats as stats"
   ]
  },
  {
   "cell_type": "code",
   "execution_count": 3,
   "metadata": {},
   "outputs": [
    {
     "name": "stdout",
     "output_type": "stream",
     "text": [
      "0.8831894362620619\n",
      "[46.00203781 46.        ]\n"
     ]
    }
   ],
   "source": [
    "c = 4.6\n",
    "p = 12.88\n",
    "g = 0\n",
    "B = 26.5\n",
    "mu = 42\n",
    "sigma = 3.36\n",
    "\n",
    "cs = p-c + B\n",
    "ce = c - g\n",
    "CR = cs/(cs+ce)\n",
    "x = stats.norm(loc=mu, scale=sigma)\n",
    "Q = np.array([x.ppf(CR),46])\n",
    "print(CR)\n",
    "print(Q)\n"
   ]
  },
  {
   "cell_type": "code",
   "execution_count": 4,
   "metadata": {},
   "outputs": [
    {
     "name": "stdout",
     "output_type": "stream",
     "text": [
      "[1.19108268 1.19047619]\n",
      "[0.05713631 0.05720719]\n",
      "[0.19197801 0.19221617]\n",
      "[321.79053212 321.79052735]\n",
      "[0.88318944 0.88307036]\n"
     ]
    }
   ],
   "source": [
    "Ex = x.mean()\n",
    "k = (Q-mu)/sigma\n",
    "Gk =stats.norm.pdf(k,0,1)- k*(1-stats.norm.cdf(k,0,1))\n",
    "print(k)\n",
    "print(Gk)\n",
    "EUS = sigma*Gk\n",
    "print(EUS)\n",
    "E1 = (p-g)*Ex\n",
    "E2 = (c-g)*Q\n",
    "E3 = (p-g+B)*EUS\n",
    "Qfullp = (Ex-EUS)\n",
    "Qdisc = (Q-(Ex-EUS))\n",
    "E = p*Qfullp-c*Q + g*Qdisc- B*(EUS)\n",
    "print(E)\n",
    "pSOs = 1-x.cdf(Q)\n",
    "print(1-pSOs)\n"
   ]
  },
  {
   "cell_type": "code",
   "execution_count": 12,
   "metadata": {},
   "outputs": [
    {
     "name": "stdout",
     "output_type": "stream",
     "text": [
      "23.230000000000004\n",
      "0.14\n",
      "23.37\n",
      "0.14\n",
      "869.37\n"
     ]
    }
   ],
   "source": [
    "c = 12\n",
    "p = 51\n",
    "g = 0\n",
    "B = 24\n",
    "mu = 42\n",
    "sigma = 3.36\n",
    "\n",
    "cs = p-c + B\n",
    "ce = c - g\n",
    "CR = cs/(cs+ce)\n",
    "#Q = np.array([x.ppf(CR)])\n",
    "\n",
    "x = np.arange(20,29,1)\n",
    "y = [0.05,0.15,0.22,0.17,0.12,0.09,0.09,0.08,0.03]\n",
    "q = 26\n",
    "df = pd.DataFrame({\"Lobster Demand\":x,\"Probability\":y})\n",
    "df.head()\n",
    "\n",
    "Edemand = np.sum(df.apply(lambda x: x['Probability']*x['Lobster Demand'],axis=1))\n",
    "df['Expected Sold'] = df.apply(lambda x: x['Probability']*x['Lobster Demand'] if x['Lobster Demand']<=q else x['Probability']*q,axis=1)\n",
    "df['Expected Short'] = df.apply(lambda x: x['Probability']*0 if x['Lobster Demand']<=q else x['Probability']*(x['Lobster Demand']-q),axis=1)\n",
    "Esold=df['Expected Sold'].sum()\n",
    "Eshort=df['Expected Short'].sum()\n",
    "print(Esold)\n",
    "print(Eshort)\n",
    "print(Edemand)\n",
    "\n",
    "Ex = Edemand\n",
    "\n",
    "EUS = Eshort\n",
    "print(EUS)\n",
    "E1 = (p-g)*Ex\n",
    "E2 = (c-g)*q\n",
    "E3 = (p-g+B)*EUS\n",
    "Qfullp = (Ex-EUS)\n",
    "Qdisc = (q-(Ex-EUS))\n",
    "E = p*Qfullp-c*q + g*Qdisc- B*(EUS)\n",
    "print(E)"
   ]
  },
  {
   "cell_type": "code",
   "execution_count": null,
   "metadata": {},
   "outputs": [],
   "source": []
  }
 ],
 "metadata": {
  "kernelspec": {
   "display_name": "Python 3",
   "language": "python",
   "name": "python3"
  },
  "language_info": {
   "codemirror_mode": {
    "name": "ipython",
    "version": 3
   },
   "file_extension": ".py",
   "mimetype": "text/x-python",
   "name": "python",
   "nbconvert_exporter": "python",
   "pygments_lexer": "ipython3",
   "version": "3.6.5"
  }
 },
 "nbformat": 4,
 "nbformat_minor": 2
}
