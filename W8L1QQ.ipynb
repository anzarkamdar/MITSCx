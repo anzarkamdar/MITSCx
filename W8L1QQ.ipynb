{
 "cells": [
  {
   "cell_type": "code",
   "execution_count": 1,
   "metadata": {},
   "outputs": [],
   "source": [
    "import pandas as pd\n",
    "import numpy as np\n",
    "import scipy.stats as stats"
   ]
  },
  {
   "cell_type": "code",
   "execution_count": 65,
   "metadata": {},
   "outputs": [],
   "source": [
    "mu = 62000\n",
    "sigma = 8000\n",
    "D = mu\n",
    "c = 100\n",
    "#ct = 525\n",
    "h = .15\n",
    "ce = c*h\n",
    "#ce = 1.25\n",
    "L = 2/52\n",
    "#Qs = np.sqrt(2*ct*D/ce)\n",
    "Qs = 5200\n",
    "CSL = 0.95\n",
    "IFR = 0.9\n",
    "B = 50000\n",
    "cs = 45"
   ]
  },
  {
   "cell_type": "code",
   "execution_count": 61,
   "metadata": {},
   "outputs": [
    {
     "name": "stdout",
     "output_type": "stream",
     "text": [
      "mudl = 2385.0\n",
      "sigmadl = 1569.0\n",
      "For CSL 0.9 order 5200 units when Inventory Position falls below: 4393.0\n",
      "Safety Stock = $30124.80\n"
     ]
    }
   ],
   "source": [
    "mudl = np.round(mu*L)\n",
    "sigmadl = np.round(sigma*np.sqrt(L))\n",
    "k = np.round(stats.norm.ppf(CSL),2)\n",
    "print('mudl = ' + str(np.round(mudl,0)))\n",
    "print('sigmadl = '+str(np.round(sigmadl,0)))\n",
    "s = np.round(mudl + np.round(k,2)*sigmadl)\n",
    "print('For CSL '+ str(CSL)+ ' order '+str(Qs)+ ' units when Inventory Position falls below: '+str(s))\n",
    "SS = k*sigmadl*ce\n",
    "print('Safety Stock = $'+str('%.2f'%SS))"
   ]
  },
  {
   "cell_type": "code",
   "execution_count": 66,
   "metadata": {},
   "outputs": [
    {
     "name": "stdout",
     "output_type": "stream",
     "text": [
      "Gk = 0.331\n",
      "For IFR = 0.9 CSL = 0.972\n",
      "For CSL 0.97 order 5200 units when Inventory Position falls below: 2605.0\n",
      "Safety Stock = $3365.50\n"
     ]
    }
   ],
   "source": [
    "#IFR = 1-(sigmadl*Gk/Q)\n",
    "#IFR = 1-EUS/Q\n",
    "x = np.arange(-3,3,0.001)\n",
    "y =stats.norm.pdf(x,0,1)- x*(1-stats.norm.cdf(x,0,1))\n",
    "df = pd.DataFrame({\"k\":x,\"Gk\":y})\n",
    "Gks = Qs/sigmadl*(1-IFR)\n",
    "print('Gk = '+str('%.3f'%Gks))\n",
    "CSLs = stats.norm.cdf(k)\n",
    "k=df.iloc[:,0][df['Gk'].apply(np.isclose, b=Gks, atol=.0001)].mean()\n",
    "print('For IFR = ' +str(IFR)+ ' CSL = ' + str('%.3f'%CSLs))\n",
    "s = np.round(mudl + np.round(k,2)*sigmadl)\n",
    "print('For CSL '+ str('%.2f'%CSLs)+ ' order '+str('%.0f'%Qs)+ ' units when Inventory Position falls below: '+str(s))\n",
    "SS = k*sigmadl*ce\n",
    "print('Safety Stock = $'+str('%.2f'%SS))"
   ]
  },
  {
   "cell_type": "code",
   "execution_count": 63,
   "metadata": {},
   "outputs": [
    {
     "name": "stdout",
     "output_type": "stream",
     "text": [
      "ECSOE = $2013348963696.80\n",
      "For B = 50000$ order 5200 units when Inventory Position falls below: 5758.0\n",
      "Safety Stock = $50620.19\n"
     ]
    }
   ],
   "source": [
    "t = B*D/(ce*Qs*sigmadl*np.sqrt(2*(np.pi)))\n",
    "k = np.sqrt(2*np.log((B*D)/(ce*sigmadl*Qs*np.sqrt(2*np.pi))))\n",
    "ECSOE = B*stats.norm.cdf(1-k)*D*Qs\n",
    "print('ECSOE = $' + str('%.2f'%ECSOE ))\n",
    "s = np.round(mudl + np.round(k,2)*sigmadl)\n",
    "print('For B = '+ str('%.0f'%B)+ '$ order '+str('%.0f'%Qs)+ ' units when Inventory Position falls below: '+str(s))\n",
    "SS = k*sigmadl*ce\n",
    "print('Safety Stock = $'+str('%.2f'%SS))"
   ]
  },
  {
   "cell_type": "code",
   "execution_count": 64,
   "metadata": {},
   "outputs": [
    {
     "name": "stdout",
     "output_type": "stream",
     "text": [
      "For cs = 45$/unit-yr order 5200 units when Inventory Position falls below: 5382.0\n",
      "ECIS = $9026.65\n",
      "Safety Stock = $44991.99\n"
     ]
    }
   ],
   "source": [
    "t=(Qs*ce)/(D*cs)\n",
    "x = lambda t: stats.norm.ppf(1-t) if t <= 1 else 1\n",
    "k = x(t)\n",
    "Gk = stats.norm.pdf(k,0,1)- k*(1-stats.norm.cdf(k,0,1))\n",
    "s = np.round(mudl + np.round(k,2)*sigmadl)\n",
    "print('For cs = '+ str('%.0f'%cs)+ '$/unit-yr order '+str('%.0f'%Qs)+ ' units when Inventory Position falls below: '+str(s))\n",
    "ECIS = cs*sigmadl*Gk*(D/Qs)\n",
    "print('ECIS = $' + str('%.2f'%ECIS ))\n",
    "SS = k*sigmadl*ce\n",
    "print('Safety Stock = $'+str('%.2f'%SS))"
   ]
  },
  {
   "cell_type": "code",
   "execution_count": null,
   "metadata": {},
   "outputs": [],
   "source": []
  },
  {
   "cell_type": "code",
   "execution_count": null,
   "metadata": {},
   "outputs": [],
   "source": []
  }
 ],
 "metadata": {
  "kernelspec": {
   "display_name": "Python 3",
   "language": "python",
   "name": "python3"
  },
  "language_info": {
   "codemirror_mode": {
    "name": "ipython",
    "version": 3
   },
   "file_extension": ".py",
   "mimetype": "text/x-python",
   "name": "python",
   "nbconvert_exporter": "python",
   "pygments_lexer": "ipython3",
   "version": "3.6.5"
  }
 },
 "nbformat": 4,
 "nbformat_minor": 2
}
