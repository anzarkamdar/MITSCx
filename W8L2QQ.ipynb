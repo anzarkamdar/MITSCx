{
 "cells": [
  {
   "cell_type": "code",
   "execution_count": 2,
   "metadata": {},
   "outputs": [],
   "source": [
    "import pandas as pd\n",
    "import numpy as np\n",
    "import scipy.stats as stats"
   ]
  },
  {
   "cell_type": "markdown",
   "metadata": {},
   "source": [
    "# QQ 4 Shopco"
   ]
  },
  {
   "cell_type": "code",
   "execution_count": 3,
   "metadata": {},
   "outputs": [],
   "source": [
    "mu = 3400\n",
    "sigma = 400\n",
    "c = 75\n",
    "h = .15\n",
    "ce = c*h\n",
    "cn = 52\n",
    "L = 1\n",
    "R = 4\n",
    "CSL = .95\n",
    "MOQ = 240\n",
    "MOS = 12"
   ]
  },
  {
   "cell_type": "code",
   "execution_count": 4,
   "metadata": {
    "scrolled": true
   },
   "outputs": [
    {
     "name": "stdout",
     "output_type": "stream",
     "text": [
      "264\n",
      "k = 1.64\n",
      "mudlr = 327.0\n",
      "sigmadlr = 124.0\n",
      "For CSL 0.95 order up to 530.0 units every 4 weeks\n",
      "Cost of Cycle Stock = $1485.0\n",
      "Cost of Safety Stock = $2288.0\n",
      "Cost of Pipeline Inventory = $736.0\n",
      "Average Inventory Cost = $4495\n"
     ]
    }
   ],
   "source": [
    "D = mu\n",
    "Qs = max(MOQ,int(np.ceil(D*(R/cn)/float(MOS))*float(MOS)))\n",
    "print(Qs)\n",
    "n = cn/(L+R)\n",
    "mudlr = np.round(mu/(n))\n",
    "sigmadlr = np.round(sigma/np.sqrt(n))\n",
    "k = np.round(stats.norm.ppf(CSL),2)\n",
    "print('k = '+str(k))\n",
    "print('mudlr = ' + str(np.round(mudlr,0)))\n",
    "print('sigmadlr = '+str(np.round(sigmadlr,0)))\n",
    "S = np.round(mudlr + np.round(k,2)*sigmadlr)\n",
    "print('For CSL '+ str(CSL)+ ' order up to ' + str(S) + ' units every '+ str(R) + ' weeks')\n",
    "CS = ce*(Qs/2)\n",
    "print('Cost of Cycle Stock = $'+str(np.round(CS)))\n",
    "SS = k*sigmadlr*ce\n",
    "print('Cost of Safety Stock = $'+str(np.round(SS)))\n",
    "PI = ce*((L/cn)*D)\n",
    "print('Cost of Pipeline Inventory = $'+str(np.round(PI)))\n",
    "AIC = ce*((D*(R/cn))/2 + k*sigmadlr + (L/cn)*D)\n",
    "print('Average Inventory Cost = $'+str('%.0f'%AIC))"
   ]
  },
  {
   "cell_type": "markdown",
   "metadata": {},
   "source": [
    "# QQ5 Shopco Mixing Center"
   ]
  },
  {
   "cell_type": "code",
   "execution_count": 5,
   "metadata": {},
   "outputs": [],
   "source": [
    "mu = 3400\n",
    "sigma = 400\n",
    "c = 75\n",
    "h = .15\n",
    "ce = c*h\n",
    "cn = 52\n",
    "L = 1.5\n",
    "R = 2\n",
    "CSL = .95\n",
    "MOQ = 0\n",
    "MOS = 12"
   ]
  },
  {
   "cell_type": "code",
   "execution_count": 6,
   "metadata": {},
   "outputs": [
    {
     "name": "stdout",
     "output_type": "stream",
     "text": [
      "132\n",
      "k = 1.64\n",
      "mudlr = 229.0\n",
      "sigmadlr = 104.0\n",
      "For CSL 0.95 order up to 400.0 units every 2 weeks\n",
      "Cost of Cycle Stock = $736\n",
      "Cost of Safety Stock = $1919\n",
      "Cost of Pipeline Inventory = $1103.0\n",
      "Average Inventory Cost = $3758\n"
     ]
    }
   ],
   "source": [
    "D = mu\n",
    "Qs = max(MOQ,int(np.ceil(D*(R/cn)/float(MOS))*float(MOS)))\n",
    "print(Qs)\n",
    "n = cn/(L+R)\n",
    "mudlr = np.round(mu/(n))\n",
    "sigmadlr = np.round(sigma/np.sqrt(n))\n",
    "k = np.round(stats.norm.ppf(CSL),2)\n",
    "print('k = '+str(k))\n",
    "print('mudlr = ' + str(np.round(mudlr,0)))\n",
    "print('sigmadlr = '+str(np.round(sigmadlr,0)))\n",
    "S = np.round(mudlr + np.round(k,2)*sigmadlr)\n",
    "print('For CSL '+ str(CSL)+ ' order up to ' + str(S) + ' units every '+ str(R) + ' weeks')\n",
    "CS = ce*((D*(R/cn)/2))\n",
    "print('Cost of Cycle Stock = $'+str('%.0f'%CS))\n",
    "SS = k*sigmadlr*ce\n",
    "print('Cost of Safety Stock = $'+str('%.0f'%SS))\n",
    "PI = ce*((L/cn)*D)\n",
    "print('Cost of Pipeline Inventory = $'+str(np.round(PI)))\n",
    "AIC = ce*((D*(R/cn)/2) + k*sigmadlr + (L/cn)*D)\n",
    "print('Average Inventory Cost = $'+str('%.0f'%AIC))"
   ]
  },
  {
   "cell_type": "code",
   "execution_count": 82,
   "metadata": {},
   "outputs": [],
   "source": []
  },
  {
   "cell_type": "code",
   "execution_count": null,
   "metadata": {},
   "outputs": [],
   "source": []
  }
 ],
 "metadata": {
  "kernelspec": {
   "display_name": "Python 3",
   "language": "python",
   "name": "python3"
  },
  "language_info": {
   "codemirror_mode": {
    "name": "ipython",
    "version": 3
   },
   "file_extension": ".py",
   "mimetype": "text/x-python",
   "name": "python",
   "nbconvert_exporter": "python",
   "pygments_lexer": "ipython3",
   "version": "3.6.5"
  }
 },
 "nbformat": 4,
 "nbformat_minor": 2
}
