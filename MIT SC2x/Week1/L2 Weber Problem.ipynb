{
 "cells": [
  {
   "cell_type": "code",
   "execution_count": 182,
   "metadata": {},
   "outputs": [],
   "source": [
    "from gurobipy import *\n",
    "import pandas as pd\n",
    "import numpy as np\n",
    "import networkx as NX\n",
    "import matplotlib.pyplot as P \n",
    "%matplotlib inline"
   ]
  },
  {
   "cell_type": "code",
   "execution_count": 183,
   "metadata": {},
   "outputs": [],
   "source": [
    "def weber(I,x,y,w):\n",
    "    \"\"\"weber: model for solving the single source weber problem using soco.\n",
    "    Parameters:\n",
    "        - I: set of customers\n",
    "        - x[i]: x position of customer i\n",
    "        - y[i]: y position of customer i\n",
    "        - w[i]: weight of customer i\n",
    "    Returns a model, ready to be solved.\n",
    "    \"\"\"\n",
    "\n",
    "    model = Model(\"weber\")\n",
    "    X,Y,z,xaux,yaux = {},{},{},{},{}\n",
    "    X = model.addVar(lb=-GRB.INFINITY, vtype=\"C\", name=\"X\")\n",
    "    Y = model.addVar(lb=-GRB.INFINITY, vtype=\"C\", name=\"Y\")\n",
    "    for i in I:\n",
    "        z[i] = model.addVar(vtype=\"C\", name=\"z(%s)\"%(i))    \n",
    "        xaux[i] = model.addVar(lb=-GRB.INFINITY, vtype=\"C\", name=\"xaux(%s)\"%(i))\n",
    "        yaux[i] = model.addVar(lb=-GRB.INFINITY, vtype=\"C\", name=\"yaux(%s)\"%(i))    \n",
    "    model.update()\n",
    "    \n",
    "    for i in I:\n",
    "        model.addConstr(xaux[i]*xaux[i] + yaux[i]*yaux[i] <= z[i]*z[i], \"MinDist(%s)\"%(i))\n",
    "        model.addConstr(xaux[i] == (x[i]-X), \"xAux(%s)\"%(i))\n",
    "        model.addConstr(yaux[i] == (y[i]-Y), \"yAux(%s)\"%(i))\n",
    "\n",
    "    model.setObjective(quicksum(w[i]*z[i] for i in I), GRB.MINIMIZE)\n",
    "\n",
    "    model.update()\n",
    "    model.__data = X,Y,z\n",
    "    return model\n"
   ]
  },
  {
   "cell_type": "code",
   "execution_count": 184,
   "metadata": {},
   "outputs": [
    {
     "name": "stdout",
     "output_type": "stream",
     "text": [
      "Optimize a model with 6 rows, 11 columns and 12 nonzeros\n",
      "Model has 3 quadratic constraints\n",
      "Coefficient statistics:\n",
      "  Matrix range     [1e+00, 1e+00]\n",
      "  QMatrix range    [1e+00, 1e+00]\n",
      "  Objective range  [2e+02, 4e+02]\n",
      "  Bounds range     [0e+00, 0e+00]\n",
      "  RHS range        [2e+01, 1e+02]\n",
      "Presolve removed 2 rows and 2 columns\n",
      "Presolve time: 0.01s\n",
      "Presolved: 4 rows, 9 columns, 8 nonzeros\n",
      "Presolved model has 3 second-order cone constraints\n",
      "Ordering time: 0.00s\n",
      "\n",
      "Barrier statistics:\n",
      " AA' NZ     : 6.000e+00\n",
      " Factor NZ  : 1.000e+01\n",
      " Factor Ops : 3.000e+01 (less than 1 second per iteration)\n",
      " Threads    : 1\n",
      "\n",
      "                  Objective                Residual\n",
      "Iter       Primal          Dual         Primal    Dual     Compl     Time\n",
      "   0   9.51459497e+04  0.00000000e+00  0.00e+00 0.00e+00  1.06e+04     0s\n",
      "   1   3.38111155e+04  2.26265735e+04  4.26e-14 9.66e-13  1.24e+03     0s\n",
      "   2   3.18480063e+04  3.06264909e+04  3.41e-13 1.76e-12  1.36e+02     0s\n",
      "   3   3.12412549e+04  3.11549560e+04  7.06e-12 2.61e-10  9.59e+00     0s\n",
      "   4   3.11798572e+04  3.11782183e+04  3.16e-12 2.02e-10  1.82e-01     0s\n",
      "   5   3.11786447e+04  3.11783666e+04  2.02e-09 8.26e-09  3.09e-02     0s\n",
      "   6   3.11785513e+04  3.11784922e+04  1.44e-09 2.06e-08  6.57e-03     0s\n",
      "   7   3.11785355e+04  3.11785242e+04  3.22e-10 3.36e-10  1.25e-03     0s\n",
      "   8   3.11785318e+04  3.11785267e+04  4.56e-10 4.47e-10  5.67e-04     0s\n",
      "   9   3.11785307e+04  3.11785289e+04  3.35e-10 3.24e-10  1.96e-04     0s\n",
      "  10   3.11785299e+04  3.11785295e+04  1.08e-10 8.92e-10  4.27e-05     0s\n",
      "  11   3.11785298e+04  3.11785297e+04  2.95e-10 3.16e-09  1.40e-05     0s\n",
      "  12   3.11785298e+04  3.11785297e+04  6.63e-10 3.27e-09  6.30e-06     0s\n",
      "  13   3.11785298e+04  3.11785297e+04  2.51e-10 3.47e-09  1.88e-06     0s\n",
      "  14   3.11785298e+04  3.11785297e+04  1.02e-10 9.59e-08  1.22e-06     0s\n",
      "\n",
      "Barrier solved model in 14 iterations and 0.03 seconds\n",
      "Optimal objective 3.11785298e+04\n",
      "\n",
      "Optimal value= 31178.52975331651\n",
      "Selected position:\n",
      "\t (89, 66)\n",
      "Solution:\n",
      "i\t    z[i]\n",
      "0\t 17.5438\n",
      "1\t 26.3062\n",
      "2\t 69.5656\n"
     ]
    }
   ],
   "source": [
    "ID = ['BO','PR','SP']\n",
    "City = ['Boston','Providence','Springfield']\n",
    "x = [100,86,20]\n",
    "y = [80,40,60]\n",
    "w = [425,320,220]\n",
    "I = range(0,len(df['ID']))\n",
    "model = weber(I,x,y,w)\n",
    "model.optimize()\n",
    "X,Y,z = model.__data\n",
    "print(\"Optimal value=\",model.ObjVal)\n",
    "print(\"Selected position:\")\n",
    "print(\"\\t\",(round(X.X),round(Y.X)))\n",
    "print(\"Solution:\")\n",
    "print(\"%s\\t%8s\" % (\"i\",\"z[i]\"))\n",
    "for i in I:\n",
    "    print (\"%s\\t%8g\" % (i,z[i].X))"
   ]
  },
  {
   "cell_type": "code",
   "execution_count": 271,
   "metadata": {},
   "outputs": [
    {
     "name": "stdout",
     "output_type": "stream",
     "text": [
      "Centroid Coordinates: [77. 62.]\n",
      "Weber Coordinates: [89. 66.]\n",
      "32.30935725415357 33.72664912558155\n"
     ]
    }
   ],
   "source": [
    "df = pd.DataFrame({'ID':ID,'City Name':City,'Weight':Wgt,'xk':x,'yk':y})\n",
    "df['DistW']=np.sqrt((X.X-df['xk'])**2+(Y.X-df['yk'])**2)\n",
    "df['Wgt DistW']=df['DistW']*df['Weight']\n",
    "\n",
    "df['xWeighted Coords'] = df['Weight']*df['xk']/(df['Weight'].sum())\n",
    "df['yWeighted Coords'] = df['Weight']*df['yk']/(df['Weight'].sum())\n",
    "xc = df['xWeighted Coords'].sum()\n",
    "yc = df['yWeighted Coords'].sum()\n",
    "df['DistC']=np.sqrt((xc-df['xk'])**2+(yc-df['yk'])**2)\n",
    "df['Wgt DistC']=df['DistC']*df['Weight']\n",
    "print('Centroid Coordinates: '+ str(np.round((xc,yc))))\n",
    "print('Weber Coordinates: '+str(np.round((X.X,Y.X))))\n",
    "\n",
    "\n",
    "\n",
    "WAD = (df['Wgt DistW']/(df['Weight'].sum())).sum()\n",
    "CAD= (df['Wgt DistC']/(df['Weight'].sum())).sum()\n",
    "print(WAD,CAD)"
   ]
  },
  {
   "cell_type": "code",
   "execution_count": 280,
   "metadata": {
    "scrolled": true
   },
   "outputs": [
    {
     "data": {
      "image/png": "[encoded data removed]",
      "text/plain": [
       "<Figure size 432x288 with 1 Axes>"
      ]
     },
     "metadata": {},
     "output_type": "display_data"
    }
   ],
   "source": [
    "P.clf\n",
    "G = NX.Graph()\n",
    "pos=NX.spring_layout(G)\n",
    "G.add_nodes_from(ID,weight={})\n",
    "G.add_nodes_from([\"WC\"])\n",
    "G.add_nodes_from([\"CC\"])\n",
    "position = {}\n",
    "weight = {}\n",
    "for i in range(len(ID)):\n",
    "    position[ID[i]] = (x[i],y[i])\n",
    "    G.node[ID[i]]['weight']=w[i]\n",
    "position[\"WC\"] = (round(X.X),round(Y.X))\n",
    "position[\"CC\"] = (round(xc),round(yc))\n",
    "\n",
    "for i in I:\n",
    "    G.add_edge(ID[i], 'WC',length=np.round(z[i].X,2))\n",
    "    G.add_edge(ID[i], 'CC',length=np.round(np.sqrt((xc-x[i])**2+(yc-y[i])**2)))\n",
    "    \n",
    "NX.draw(G,pos=position,node_size=300,node_color=\"g\",nodelist=ID,with_labels=True)\n",
    "NX.draw(G,pos=position,node_size=400,node_color=\"b\",nodelist=[\"WC\"],alpha=0.5)\n",
    "NX.draw(G,pos=position,node_size=400,node_color=\"r\",nodelist=[\"CC\"],alpha=0.5)\n",
    "pos_higher = {}\n",
    "x_off = 2 # offset on the y axis\n",
    "y_off = -1.5\n",
    "for k, v in position.items():\n",
    "    pos_higher[k] = (v[0]+x_off, v[1]+y_off)\n",
    "\n",
    "edge_labels = NX.get_edge_attributes(G,'length')\n",
    "node_labels = NX.get_node_attributes(G,'weight')\n",
    "NX.draw_networkx_edge_labels(G,position,edge_labels=edge_labels)\n",
    "NX.draw_networkx_labels(G,fontsize=200,pos=pos_higher,labels=node_labels)\n",
    "P.savefig(\"weber.pdf\",format=\"pdf\",dpi=300)\n",
    "\n",
    "P.show()\n"
   ]
  },
  {
   "cell_type": "code",
   "execution_count": 279,
   "metadata": {},
   "outputs": [
    {
     "name": "stdout",
     "output_type": "stream",
     "text": [
      "[('BO', {'weight': 425}), ('PR', {'weight': 320}), ('SP', {'weight': 220}), ('WC', {}), ('CC', {})]\n",
      "[('BO', 'WC', {'length': 17.54}), ('BO', 'CC', {'length': 29.0}), ('PR', 'WC', {'length': 26.31}), ('PR', 'CC', {'length': 24.0}), ('SP', 'WC', {'length': 69.57}), ('SP', 'CC', {'length': 57.0})]\n"
     ]
    }
   ],
   "source": [
    "print(G.nodes(data=True))\n",
    "print(G.edges(data=True))"
   ]
  },
  {
   "cell_type": "code",
   "execution_count": 235,
   "metadata": {},
   "outputs": [
    {
     "name": "stdout",
     "output_type": "stream",
     "text": [
      "Centroid Coordinates: [77. 62.]\n"
     ]
    }
   ],
   "source": []
  },
  {
   "cell_type": "code",
   "execution_count": null,
   "metadata": {},
   "outputs": [],
   "source": []
  }
 ],
 "metadata": {
  "kernelspec": {
   "display_name": "Python 3",
   "language": "python",
   "name": "python3"
  },
  "language_info": {
   "codemirror_mode": {
    "name": "ipython",
    "version": 3
   },
   "file_extension": ".py",
   "mimetype": "text/x-python",
   "name": "python",
   "nbconvert_exporter": "python",
   "pygments_lexer": "ipython3",
   "version": "3.6.5"
  }
 },
 "nbformat": 4,
 "nbformat_minor": 2
}
