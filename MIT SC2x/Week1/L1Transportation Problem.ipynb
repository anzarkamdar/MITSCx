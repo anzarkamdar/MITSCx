{
 "cells": [
  {
   "cell_type": "code",
   "execution_count": 69,
   "metadata": {},
   "outputs": [],
   "source": [
    "from gurobipy import *\n",
    "import pandas as pd"
   ]
  },
  {
   "cell_type": "code",
   "execution_count": 71,
   "metadata": {},
   "outputs": [
    {
     "name": "stdout",
     "output_type": "stream",
     "text": [
      "Optimize a model with 5 rows, 6 columns and 12 nonzeros\n",
      "Coefficient statistics:\n",
      "  Matrix range     [1e+00, 1e+00]\n",
      "  Objective range  [3e+02, 5e+02]\n",
      "  Bounds range     [0e+00, 0e+00]\n",
      "  RHS range        [4e+01, 1e+02]\n",
      "Presolve time: 0.00s\n",
      "Presolved: 5 rows, 6 columns, 12 nonzeros\n",
      "\n",
      "Iteration    Objective       Primal Inf.    Dual Inf.      Time\n",
      "       0    0.0000000e+00   2.000000e+02   0.000000e+00      0s\n",
      "       4    6.6900000e+04   0.000000e+00   0.000000e+00      0s\n",
      "\n",
      "Solved in 4 iterations and 0.01 seconds\n",
      "Optimal objective  6.690000000e+04\n",
      "\n",
      "Optimal flows :\n",
      "PlantOne -> RegionOne : 80.0\n",
      "PlantOne -> RegionTwo : 0.0\n",
      "PlantOne -> RegionThree : 20.0\n",
      "PlantTwo -> RegionOne : 0.0\n",
      "PlantTwo -> RegionTwo : 40.0\n",
      "PlantTwo -> RegionThree : 60.0\n"
     ]
    }
   ],
   "source": [
    "try:\n",
    "\n",
    "    plants = ['PlantOne','PlantTwo']\n",
    "\n",
    "    regions = ['RegionOne','RegionTwo','RegionThree']\n",
    "\n",
    "    cost = {\n",
    "        ('PlantOne','RegionOne'): 250,\n",
    "        ('PlantOne','RegionTwo'): 325,\n",
    "        ('PlantOne','RegionThree'): 445,\n",
    "        ('PlantTwo','RegionOne'): 275,\n",
    "        ('PlantTwo','RegionTwo'): 260,\n",
    "        ('PlantTwo','RegionThree'): 460\n",
    "    }\n",
    "\n",
    "    supply = {\n",
    "        ('PlantOne'): 100,\n",
    "        ('PlantTwo'): 125\n",
    "    }\n",
    "\n",
    "    demand = {\n",
    "        ('RegionOne'): 80,\n",
    "        ('RegionTwo'): 40,\n",
    "        ('RegionThree'): 80\n",
    "    }\n",
    "\n",
    "    # Create a new model\n",
    "    m = Model(\"transport_problem_1\")\n",
    "\n",
    "    # Create variables\n",
    "    flow = {}\n",
    "    for f in plants:\n",
    "        for s in regions:\n",
    "            flow[f,s] = m.addVar(obj=cost[f,s], name='flow_%s_%s' % (f, s))\n",
    "\n",
    "    # Integrate new variables\n",
    "    m.update()\n",
    "\n",
    "    # Add supply constraints\n",
    "    for f in plants:\n",
    "        m.addConstr(quicksum(flow[f,s] for s in regions) <= supply[f], 'supply_%s' % (f))\n",
    "    \n",
    "    # Add demand constraints\n",
    "    for s in regions:\n",
    "        m.addConstr(quicksum(flow[f,s] for f in plants) >= demand[s], 'demand_%s' % (s))\n",
    "\n",
    "    # Optimize the model. The default ModelSense is to is to minimize the objective, which is what we want.\n",
    "    m.optimize()\n",
    "\n",
    "    # Print solution\n",
    "    if m.status == GRB.status.OPTIMAL:\n",
    "        print ('\\nOptimal flows :')\n",
    "        for f in plants:\n",
    "            for s in regions:\n",
    "                print (f, '->', s, ':', flow[f,s].x)\n",
    "\n",
    "except GurobiError:\n",
    "    print ('Error reported')\n",
    "\n"
   ]
  },
  {
   "cell_type": "code",
   "execution_count": null,
   "metadata": {},
   "outputs": [],
   "source": []
  }
 ],
 "metadata": {
  "kernelspec": {
   "display_name": "Python 3",
   "language": "python",
   "name": "python3"
  },
  "language_info": {
   "codemirror_mode": {
    "name": "ipython",
    "version": 3
   },
   "file_extension": ".py",
   "mimetype": "text/x-python",
   "name": "python",
   "nbconvert_exporter": "python",
   "pygments_lexer": "ipython3",
   "version": "3.6.5"
  }
 },
 "nbformat": 4,
 "nbformat_minor": 2
}
