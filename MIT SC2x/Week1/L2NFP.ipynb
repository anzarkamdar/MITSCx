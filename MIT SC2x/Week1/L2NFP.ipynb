{
 "cells": [
  {
   "cell_type": "code",
   "execution_count": 527,
   "metadata": {},
   "outputs": [],
   "source": [
    "from gurobipy import *\n",
    "from multidict import *\n",
    "import networkx as NX\n",
    "import matplotlib.pyplot as plt\n",
    "%matplotlib inline\n",
    "import numpy as np"
   ]
  },
  {
   "cell_type": "code",
   "execution_count": 708,
   "metadata": {},
   "outputs": [],
   "source": [
    "ID = ['BO','BR','CO','HA','MN','NA','NH','NL','PO','PR','SP','WO']\n",
    "clients = [[100, 80],[15, 119],[76,145],[13,33],\n",
    "           [80,132],[80,112],[0,0],[40,6],\n",
    "           [120,139],[86,40],[20,60],[66,73]]\n",
    "facs = [[100,80],[80,112],[86,40],[20,60],[66,73]]\n",
    "demand = [425, 12, 43, 125, 110,86,129,28,66,320,220,182]\n",
    "capacity = [2000,2000,2000,2000,2000]\n",
    "fixed_costs = [10000,10000,10000,10000,10000]\n",
    "numFacilities = len(facs)\n",
    "numClients = len(clients)\n",
    "P = 5\n",
    "def flp(I,J,d,M,f,c):\n",
    "    \"\"\"flp -- model for the capacitated facility location problem\n",
    "    Parameters:\n",
    "        - I: set of customers\n",
    "        - J: set of facilities\n",
    "        - d[i]: demand for customer i\n",
    "        - M[j]: capacity of facility j\n",
    "        - f[j]: fixed cost for using a facility in point j\n",
    "        - c[i,j]: unit cost of servicing demand point i from facility j\n",
    "    Returns a model, ready to be solved.\n",
    "    \"\"\"\n",
    "\n",
    "    model = Model(\"flp\")\n",
    "    x,y = {},{}\n",
    "    for j in J:\n",
    "        y[j] = model.addVar(vtype=\"B\", name=\"y(%s)\"%j)\n",
    "        for i in I:\n",
    "            x[i,j] = model.addVar(vtype=\"C\", name=\"x(%s,%s)\"%(i,j))    \n",
    "    model.update()\n",
    "    \n",
    "    for j in J:\n",
    "        model.addConstr(quicksum(y[j] for j in J) == P, \"P(%s)\"%j)\n",
    "    for i in I:\n",
    "        model.addConstr(quicksum(x[i,j] for j in J) == d[i], \"Demand(%s)\"%i)\n",
    "\n",
    "    for j in M:\n",
    "        model.addConstr(quicksum(x[i,j] for i in I) <= M[j]*y[j], \"Capacity(%s)\"%i)\n",
    "        \n",
    "    for (i,j) in x:\n",
    "        model.addConstr(x[i,j] <= d[i]*y[j], \"Strong(%s,%s)\"%(i,j))        \n",
    "\n",
    "    model.setObjective(\n",
    "        quicksum(f[j]*y[j] for j in J) +\n",
    "        quicksum(c[i,j]*x[i,j] for i in I for j in J),\n",
    "        GRB.MINIMIZE)\n",
    "\n",
    "    model.update()\n",
    "    model.__data = x,y\n",
    "    return model\n",
    "\n",
    "\n",
    "def distance(a,b):\n",
    "  dx = a[0] - b[0]\n",
    "  dy = a[1] - b[1]\n",
    "  return math.sqrt(dx*dx + dy*dy)\n",
    "\n",
    "def make_data():\n",
    "    I = []\n",
    "    d = {}\n",
    "    for i in range(numClients):\n",
    "        I.append(i+1)\n",
    "        d[i+1]=(demand[i])  \n",
    "    \n",
    "    J = []\n",
    "    M,f = {},{}\n",
    "    \n",
    "    for j in range(numFacilities):\n",
    "        J.append(j+1)\n",
    "        M[j+1]=capacity[j]\n",
    "        f[j+1]=fixed_costs[j]\n",
    "    \n",
    "    c = {}\n",
    "    for k in range(numClients):\n",
    "      for h in range(numFacilities):\n",
    "        c[(k+1,h+1)] = np.floor(distance(clients[k], facs[h]))\n",
    "    \n",
    "    return I,J,d,M,f,c"
   ]
  },
  {
   "cell_type": "code",
   "execution_count": 709,
   "metadata": {},
   "outputs": [
    {
     "name": "stdout",
     "output_type": "stream",
     "text": [
      "Optimize a model with 82 rows, 65 columns and 270 nonzeros\n",
      "Variable types: 60 continuous, 5 integer (5 binary)\n",
      "Coefficient statistics:\n",
      "  Matrix range     [1e+00, 2e+03]\n",
      "  Objective range  [2e+01, 1e+04]\n",
      "  Bounds range     [1e+00, 1e+00]\n",
      "  RHS range        [5e+00, 4e+02]\n",
      "Presolve removed 82 rows and 65 columns\n",
      "Presolve time: 0.00s\n",
      "Presolve: All rows and columns removed\n",
      "\n",
      "Explored 0 nodes (0 simplex iterations) in 0.01 seconds\n",
      "Thread count was 1 (of 8 available processors)\n",
      "\n",
      "Solution count 1: 70593 \n",
      "\n",
      "Optimal solution found (tolerance 1.00e-04)\n",
      "Best objective 7.059300000000e+04, best bound 7.059300000000e+04, gap 0.0000%\n",
      "Optimal value= 70593.0\n",
      "Facilities at nodes: [1, 2, 3, 4, 5]\n",
      "Edges: [(1, 1), (3, 2), (5, 2), (6, 2), (9, 2), (8, 3), (10, 3), (2, 4), (4, 4), (7, 4), (11, 4), (12, 5)]\n"
     ]
    },
    {
     "data": {
      "image/png": "[encoded data removed]",
      "text/plain": [
       "<Figure size 432x288 with 1 Axes>"
      ]
     },
     "metadata": {},
     "output_type": "display_data"
    }
   ],
   "source": [
    "if __name__ == \"__main__\":\n",
    "    I,J,d,M,f,c = make_data()\n",
    "    model = flp(I,J,d,M,f,c)\n",
    "    model.optimize()\n",
    "\n",
    "    EPS = 1.e-6\n",
    "    x,y = model.__data\n",
    "    edges = [(i,j) for (i,j) in x if x[i,j].X > EPS]\n",
    "    facilities = [j for j in y if y[j].X > EPS]\n",
    "    print(\"Optimal value=\",model.ObjVal)\n",
    "    print(\"Facilities at nodes:\",facilities)\n",
    "    print(\"Edges:\",edges)\n",
    "\n",
    "    try: # plot the result using networkx and matplotlib\n",
    "        \n",
    "        plt.clf()\n",
    "        G = NX.Graph()\n",
    "\n",
    "        other = [j for j in y if j not in facilities]\n",
    "        customers = [\"c%s\"%i for i in d]\n",
    "        G.add_nodes_from(facilities,pos=[],weight=[])\n",
    "        G.add_nodes_from(other,pos=[],weight=[])\n",
    "        G.add_nodes_from(customers,pos=[],weight=[],ID=[])\n",
    "        \n",
    "        position={}\n",
    "        for i in range(numClients):\n",
    "            G.node[\"c%s\"%(i+1)]['pos'] = (clients[i][0],clients[i][1])\n",
    "            position[\"c%s\"%(i+1)]=(clients[i][0],clients[i][1])\n",
    "            G.node[\"c%s\"%(i+1)]['weight']=demand[i]\n",
    "            G.node[\"c%s\"%(i+1)]['ID']=ID[i]\n",
    "            \n",
    "        position_facs = {}\n",
    "        for i in range(len(facs)):\n",
    "            G.node[i+1]['pos'] = (facs[i][0],facs[i][1])\n",
    "            position[i+1] = (facs[i][0],facs[i][1])\n",
    "            G.node[i+1]['weight'] = demand[i]\n",
    "            \n",
    "        position_other = {}\n",
    "        for i in range(len(other)):\n",
    "            k = other[i]\n",
    "            G.node[i+1]['pos'] =facs[k-1] \n",
    "            position[k] = facs[k-1]\n",
    "            G.node[i+1]['weight'] = demand[k-1]\n",
    "        for i,j in edges:\n",
    "            G.add_edge(\"c%s\"%i, j,cd=np.round(c[i,j]),wd=np.round((c[i,j]*(x[i,j].X))/np.sum(demand),4))\n",
    "        \n",
    "        edge_labels = NX.get_edge_attributes(G,'cd')\n",
    "        node_labels = NX.get_node_attributes(G,'ID')\n",
    "        \n",
    "        NX.draw(G,position,node_size=300,node_color=\"b\",nodelist=customers,labels=node_labels)   \n",
    "        NX.draw_networkx_edge_labels(G,position,edge_labels=edge_labels)       \n",
    "        NX.draw(G,position,node_size=1600,node_color=\"y\",nodelist=facilities)\n",
    "        NX.draw(G,position,node_size=800,node_color=\"g\",nodelist=other)\n",
    "        plt.show()\n",
    "    except ImportError:\n",
    "        print(\"install 'networkx' and 'matplotlib' for plotting\")"
   ]
  },
  {
   "cell_type": "code",
   "execution_count": 710,
   "metadata": {},
   "outputs": [
    {
     "data": {
      "text/plain": [
       "EdgeDataView([(1, 'c1', {'cd': 0.0, 'wd': 0.0}), (2, 'c3', {'cd': 33.0, 'wd': 0.8127}), (2, 'c5', {'cd': 20.0, 'wd': 1.26}), (2, 'c6', {'cd': 0.0, 'wd': 0.0}), (2, 'c9', {'cd': 48.0, 'wd': 1.8144}), (3, 'c8', {'cd': 57.0, 'wd': 0.9141}), (3, 'c10', {'cd': 0.0, 'wd': 0.0}), (4, 'c2', {'cd': 59.0, 'wd': 0.4055}), (4, 'c4', {'cd': 27.0, 'wd': 1.933}), (4, 'c7', {'cd': 63.0, 'wd': 4.6546}), (4, 'c11', {'cd': 0.0, 'wd': 0.0}), (5, 'c12', {'cd': 0.0, 'wd': 0.0})])"
      ]
     },
     "execution_count": 710,
     "metadata": {},
     "output_type": "execute_result"
    }
   ],
   "source": [
    "G.edges(data=True)"
   ]
  },
  {
   "cell_type": "code",
   "execution_count": 711,
   "metadata": {
    "scrolled": true
   },
   "outputs": [
    {
     "data": {
      "text/plain": [
       "NodeDataView({1: {'pos': (100, 80), 'weight': 425}, 2: {'pos': (80, 112), 'weight': 12}, 3: {'pos': (86, 40), 'weight': 43}, 4: {'pos': (20, 60), 'weight': 125}, 5: {'pos': (66, 73), 'weight': 110}, 'c1': {'pos': (100, 80), 'weight': 425, 'ID': 'BO'}, 'c2': {'pos': (15, 119), 'weight': 12, 'ID': 'BR'}, 'c3': {'pos': (76, 145), 'weight': 43, 'ID': 'CO'}, 'c4': {'pos': (13, 33), 'weight': 125, 'ID': 'HA'}, 'c5': {'pos': (80, 132), 'weight': 110, 'ID': 'MN'}, 'c6': {'pos': (80, 112), 'weight': 86, 'ID': 'NA'}, 'c7': {'pos': (0, 0), 'weight': 129, 'ID': 'NH'}, 'c8': {'pos': (40, 6), 'weight': 28, 'ID': 'NL'}, 'c9': {'pos': (120, 139), 'weight': 66, 'ID': 'PO'}, 'c10': {'pos': (86, 40), 'weight': 320, 'ID': 'PR'}, 'c11': {'pos': (20, 60), 'weight': 220, 'ID': 'SP'}, 'c12': {'pos': (66, 73), 'weight': 182, 'ID': 'WO'}})"
      ]
     },
     "execution_count": 711,
     "metadata": {},
     "output_type": "execute_result"
    }
   ],
   "source": [
    "G.nodes(data=True)"
   ]
  },
  {
   "cell_type": "code",
   "execution_count": 712,
   "metadata": {},
   "outputs": [
    {
     "name": "stdout",
     "output_type": "stream",
     "text": [
      "Average Customer Distance = 25.58\n",
      "Average Demand Distance = 11.79\n",
      "\n",
      "Percent Demand within distance bracket: \n",
      "distance <= 25 miles: 77%\n",
      "25 miles < distance <= 50 miles: 13%\n",
      "50 miles < distance <= 75 miles: 10%\n",
      "75 miles < distance <= 100 miles; 0%\n",
      "distance > 100 miles: 0%\n"
     ]
    }
   ],
   "source": [
    "cd = NX.get_edge_attributes(G,'cd')\n",
    "print('Average Customer Distance = '+str('%.2f'%np.mean(list(cd.values()))))\n",
    "wd = NX.get_edge_attributes(G,'wd')\n",
    "print('Average Demand Distance = '+str('%.2f'%np.sum(list(wd.values()))))\n",
    "\n",
    "b1,b2,b3,b4,b5 = [],[],[],[],[]\n",
    "for k,v in cd.items():\n",
    "    if v <= 25:\n",
    "        b1.append(k)\n",
    "    if (v > 25 and v <= 50):\n",
    "        b2.append(k)\n",
    "    if (v > 50 and v <= 75):\n",
    "        b3.append(k)\n",
    "    if (v > 75 and v <= 100):\n",
    "        b4.append(k)\n",
    "    elif (v > 100):\n",
    "        b5.append(k)\n",
    "\n",
    "c1,c2,c3,c4,c5 = [],[],[],[],[]\n",
    "\n",
    "for i in range(len(b1)):\n",
    "    c =G.node[b1[i][1]]['weight']\n",
    "    c1.append(c)\n",
    "for i in range(len(b2)):\n",
    "    c =G.node[b2[i][1]]['weight']\n",
    "    c2.append(c)\n",
    "for i in range(len(b3)):\n",
    "    c =G.node[b3[i][1]]['weight']\n",
    "    c3.append(c)\n",
    "for i in range(len(b4)):\n",
    "    c =G.node[b4[i][1]]['weight']\n",
    "    c4.append(c)\n",
    "for i in range(len(b5)):\n",
    "    c =G.node[b5[i][1]]['weight']\n",
    "    c5.append(c)\n",
    "    \n",
    "print('\\nPercent Demand within distance bracket: ')\n",
    "print('distance <= 25 miles: '+ str('%.0f'%(np.sum(c1)/np.sum(demand)*100))+'%')\n",
    "print('25 miles < distance <= 50 miles: '+ str('%.0f'%(np.sum(c2)/np.sum(demand)*100))+'%')\n",
    "print('50 miles < distance <= 75 miles: '+ str('%.0f'%(np.sum(c3)/np.sum(demand)*100))+'%')\n",
    "print('75 miles < distance <= 100 miles; '+ str('%.0f'%(np.sum(c4)/np.sum(demand)*100))+'%')\n",
    "print('distance > 100 miles: '+ str('%.0f'%(np.sum(c5)/np.sum(demand)*100))+'%')"
   ]
  },
  {
   "cell_type": "code",
   "execution_count": null,
   "metadata": {},
   "outputs": [],
   "source": []
  },
  {
   "cell_type": "code",
   "execution_count": null,
   "metadata": {},
   "outputs": [],
   "source": []
  }
 ],
 "metadata": {
  "kernelspec": {
   "display_name": "Python 3",
   "language": "python",
   "name": "python3"
  },
  "language_info": {
   "codemirror_mode": {
    "name": "ipython",
    "version": 3
   },
   "file_extension": ".py",
   "mimetype": "text/x-python",
   "name": "python",
   "nbconvert_exporter": "python",
   "pygments_lexer": "ipython3",
   "version": "3.6.5"
  }
 },
 "nbformat": 4,
 "nbformat_minor": 2
}
