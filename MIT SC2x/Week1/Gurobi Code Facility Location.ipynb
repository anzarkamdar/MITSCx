{
 "cells": [
  {
   "cell_type": "code",
   "execution_count": 2,
   "metadata": {},
   "outputs": [],
   "source": [
    "from gurobipy import *\n",
    "import math\n"
   ]
  },
  {
   "cell_type": "code",
   "execution_count": 12,
   "metadata": {},
   "outputs": [
    {
     "name": "stdout",
     "output_type": "stream",
     "text": [
      "Optimize a model with 72 rows, 65 columns and 180 nonzeros\n",
      "Variable types: 60 continuous, 5 integer (5 binary)\n",
      "Coefficient statistics:\n",
      "  Matrix range     [1e+00, 1e+00]\n",
      "  Objective range  [2e+01, 1e+04]\n",
      "  Bounds range     [1e+00, 1e+00]\n",
      "  RHS range        [1e+00, 1e+00]\n",
      "Presolve time: 0.00s\n",
      "Presolved: 72 rows, 65 columns, 180 nonzeros\n",
      "Variable types: 60 continuous, 5 integer (5 binary)\n",
      "\n",
      "Root relaxation: objective 1.068651e+04, 49 iterations, 0.00 seconds\n",
      "\n",
      "    Nodes    |    Current Node    |     Objective Bounds      |     Work\n",
      " Expl Unexpl |  Obj  Depth IntInf | Incumbent    BestBd   Gap | It/Node Time\n",
      "\n",
      "*    0     0               0    10686.505519 10686.5055  0.00%     -    0s\n",
      "\n",
      "Explored 0 nodes (49 simplex iterations) in 0.10 seconds\n",
      "Thread count was 8 (of 8 available processors)\n",
      "\n",
      "Solution count 1: 10686.5 \n",
      "\n",
      "Optimal solution found (tolerance 1.00e-04)\n",
      "Best objective 1.068650551911e+04, best bound 1.068650551911e+04, gap 0.0000%\n",
      "{(0, 0): 0.0, (0, 1): 37.73592452822641, (0, 2): 42.37924020083418, (0, 3): 82.46211251235322, (0, 4): 34.713109915419565, (1, 0): 93.5200513259055, (1, 1): 65.37583651472461, (1, 2): 106.21675950620975, (1, 3): 59.21148537234985, (1, 4): 68.6804193347711, (2, 0): 69.28924880528002, (2, 1): 33.24154027718932, (2, 2): 105.47511554864494, (2, 3): 101.78899744078434, (2, 4): 72.69112738154499, (3, 0): 98.88377015466189, (3, 1): 103.58571330062848, (3, 2): 73.33484846919642, (3, 3): 27.892651361962706, (3, 4): 66.40030120413611, (4, 0): 55.71355310873648, (4, 1): 20.0, (4, 2): 92.19544457292888, (4, 3): 93.72299611087985, (4, 4): 60.63827174318213, (5, 0): 37.73592452822641, (5, 1): 0.0, (5, 2): 72.24956747275377, (5, 3): 79.39773296511683, (5, 4): 41.43669871020132, (6, 0): 128.06248474865697, (6, 1): 137.63720427268203, (6, 2): 94.847245611035, (6, 3): 63.245553203367585, (6, 4): 98.41239759298622, (7, 0): 95.26804291051643, (7, 1): 113.29607230614837, (7, 2): 57.201398584300364, (7, 3): 57.584720195551874, (7, 4): 71.8679344353238, (8, 0): 62.297672508690084, (8, 1): 48.25971404805462, (8, 2): 104.67568963231147, (8, 3): 127.4401820463232, (8, 4): 85.27602242131137, (9, 0): 42.37924020083418, (9, 1): 72.24956747275377, (9, 2): 0.0, (9, 3): 68.96375859826666, (9, 4): 38.58756276314948, (10, 0): 82.46211251235322, (10, 1): 79.39773296511683, (10, 2): 68.96375859826666, (10, 3): 0.0, (10, 4): 47.80167361086848, (11, 0): 34.713109915419565, (11, 1): 41.43669871020132, (11, 2): 38.58756276314948, (11, 3): 47.80167361086848, (11, 4): 0.0}\n"
     ]
    }
   ],
   "source": [
    "\n",
    "def distance(a,b):\n",
    "  dx = a[0] - b[0]\n",
    "  dy = a[1] - b[1]\n",
    "  return math.sqrt(dx*dx + dy*dy)\n",
    "\n",
    "# Problem data\n",
    "clients = [[100, 80],[15, 119],[76,145],[13,33],\n",
    "           [80,132],[80,112],[0,0],[40,6],\n",
    "           [120,139],[86,40],[20,60],[66,73]]\n",
    "facilities = [[100,80],[80,112],[86,40],[20,60],[66,73]]\n",
    "charge = [10000,10000,10000,10000,10000]\n",
    "demand = [425,12,43,125,110,86,129,28,66,320,220,182]\n",
    "\n",
    "numFacilities = len(facilities)\n",
    "numClients = len(clients)\n",
    "\n",
    "m = Model()\n",
    "\n",
    "# Add variables\n",
    "x = {}\n",
    "y = {}\n",
    "d = {} # Distance matrix (not a variable)\n",
    "alpha = 1\n",
    "\n",
    "for j in range(numFacilities):\n",
    "  x[j] = m.addVar(vtype=GRB.BINARY, name=\"x%d\" % j)\n",
    "\n",
    "for i in range(numClients):\n",
    "  for j in range(numFacilities):\n",
    "    y[(i,j)] = m.addVar(lb=0, vtype=GRB.CONTINUOUS, name=\"t%d,%d\" % (i,j))\n",
    "    d[(i,j)] = distance(clients[i], facilities[j])\n",
    "\n",
    "m.update()\n",
    "\n",
    "# Add constraints\n",
    "for i in range(numClients):\n",
    "  for j in range(numFacilities):\n",
    "    m.addConstr(y[(i,j)] <= x[j])\n",
    "\n",
    "\n",
    "\n",
    "for i in range(numClients):\n",
    "  m.addConstr(quicksum(y[(i,j)] for j in range(numFacilities)) == 1)\n",
    "\n",
    "m.setObjective( quicksum(charge[j]*x[j] + quicksum(alpha*d[(i,j)]*y[(i,j)]\n",
    "                for i in range(numClients)) for j in range(numFacilities)) )\n",
    "\n",
    "m.optimize()\n",
    "\n",
    "print(d)"
   ]
  },
  {
   "cell_type": "code",
   "execution_count": null,
   "metadata": {},
   "outputs": [],
   "source": []
  },
  {
   "cell_type": "code",
   "execution_count": null,
   "metadata": {},
   "outputs": [],
   "source": []
  }
 ],
 "metadata": {
  "kernelspec": {
   "display_name": "Python 3",
   "language": "python",
   "name": "python3"
  },
  "language_info": {
   "codemirror_mode": {
    "name": "ipython",
    "version": 3
   },
   "file_extension": ".py",
   "mimetype": "text/x-python",
   "name": "python",
   "nbconvert_exporter": "python",
   "pygments_lexer": "ipython3",
   "version": "3.6.5"
  }
 },
 "nbformat": 4,
 "nbformat_minor": 2
}
