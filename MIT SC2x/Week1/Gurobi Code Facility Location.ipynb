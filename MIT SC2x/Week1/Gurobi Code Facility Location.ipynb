{
 "cells": [
  {
   "cell_type": "code",
   "execution_count": 1,
   "metadata": {},
   "outputs": [],
   "source": [
    "from gurobipy import *\n",
    "import math\n"
   ]
  },
  {
   "cell_type": "code",
   "execution_count": 2,
   "metadata": {},
   "outputs": [
    {
     "name": "stdout",
     "output_type": "stream",
     "text": [
      "Academic license - for non-commercial use only\n",
      "Optimize a model with 20 rows, 27 columns and 54 nonzeros\n",
      "Variable types: 18 continuous, 9 integer (9 binary)\n",
      "Coefficient statistics:\n",
      "  Matrix range     [1e+00, 1e+00]\n",
      "  Objective range  [5e-01, 4e+00]\n",
      "  Bounds range     [1e+00, 1e+00]\n",
      "  RHS range        [1e+00, 1e+00]\n",
      "Presolve time: 0.00s\n",
      "Presolved: 20 rows, 27 columns, 54 nonzeros\n",
      "Variable types: 18 continuous, 9 integer (9 binary)\n",
      "\n",
      "Root relaxation: objective 4.723713e+00, 15 iterations, 0.00 seconds\n",
      "\n",
      "    Nodes    |    Current Node    |     Objective Bounds      |     Work\n",
      " Expl Unexpl |  Obj  Depth IntInf | Incumbent    BestBd   Gap | It/Node Time\n",
      "\n",
      "*    0     0               0       4.7237129    4.72371  0.00%     -    0s\n",
      "\n",
      "Explored 0 nodes (15 simplex iterations) in 0.02 seconds\n",
      "Thread count was 8 (of 8 available processors)\n",
      "\n",
      "Solution count 1: 4.72371 \n",
      "\n",
      "Optimal solution found (tolerance 1.00e-04)\n",
      "Best objective 4.723712908962e+00, best bound 4.723712908962e+00, gap 0.0000%\n"
     ]
    }
   ],
   "source": [
    "\n",
    "def distance(a,b):\n",
    "  dx = a[0] - b[0]\n",
    "  dy = a[1] - b[1]\n",
    "  return math.sqrt(dx*dx + dy*dy)\n",
    "\n",
    "# Problem data\n",
    "clients = [[0, 1.5],[2.5, 1.2]]\n",
    "facilities = [[0,0],[0,1],[0,1],\n",
    "              [1,0],[1,1],[1,2],\n",
    "              [2,0],[2,1],[2,2]]\n",
    "charge = [3,2,3,1,3,3,4,3,2]\n",
    "\n",
    "numFacilities = len(facilities)\n",
    "numClients = len(clients)\n",
    "\n",
    "m = Model()\n",
    "\n",
    "# Add variables\n",
    "x = {}\n",
    "y = {}\n",
    "d = {} # Distance matrix (not a variable)\n",
    "alpha = 1\n",
    "\n",
    "for j in range(numFacilities):\n",
    "  x[j] = m.addVar(vtype=GRB.BINARY, name=\"x%d\" % j)\n",
    "\n",
    "for i in range(numClients):\n",
    "  for j in range(numFacilities):\n",
    "    y[(i,j)] = m.addVar(lb=0, vtype=GRB.CONTINUOUS, name=\"t%d,%d\" % (i,j))\n",
    "    d[(i,j)] = distance(clients[i], facilities[j])\n",
    "\n",
    "m.update()\n",
    "\n",
    "# Add constraints\n",
    "for i in range(numClients):\n",
    "  for j in range(numFacilities):\n",
    "    m.addConstr(y[(i,j)] <= x[j])\n",
    "\n",
    "for i in range(numClients):\n",
    "  m.addConstr(quicksum(y[(i,j)] for j in range(numFacilities)) == 1)\n",
    "\n",
    "m.setObjective( quicksum(charge[j]*x[j] + quicksum(alpha*d[(i,j)]*y[(i,j)]\n",
    "                for i in range(numClients)) for j in range(numFacilities)) )\n",
    "\n",
    "m.optimize()"
   ]
  },
  {
   "cell_type": "code",
   "execution_count": null,
   "metadata": {},
   "outputs": [],
   "source": []
  }
 ],
 "metadata": {
  "kernelspec": {
   "display_name": "Python 3",
   "language": "python",
   "name": "python3"
  },
  "language_info": {
   "codemirror_mode": {
    "name": "ipython",
    "version": 3
   },
   "file_extension": ".py",
   "mimetype": "text/x-python",
   "name": "python",
   "nbconvert_exporter": "python",
   "pygments_lexer": "ipython3",
   "version": "3.6.5"
  }
 },
 "nbformat": 4,
 "nbformat_minor": 2
}
